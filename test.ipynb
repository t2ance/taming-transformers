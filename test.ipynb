{
 "cells": [
  {
   "cell_type": "code",
   "execution_count": 3,
   "outputs": [
    {
     "name": "stdout",
     "output_type": "stream",
     "text": [
      "python: can't open file 'main.py': [Errno 2] No such file or directory\r\n"
     ]
    }
   ],
   "source": [
    "!python main.py --base configs/faceshq_vqgan.yaml -t True --gpus 0;"
   ],
   "metadata": {
    "collapsed": false,
    "ExecuteTime": {
     "end_time": "2024-12-08T03:09:09.773394600Z",
     "start_time": "2024-12-08T03:09:07.870898500Z"
    }
   }
  },
  {
   "cell_type": "code",
   "execution_count": 1,
   "outputs": [
    {
     "name": "stdout",
     "output_type": "stream",
     "text": [
      "License.txt\t\treconstruction_usage_update.ipynb\r\n",
      "README.md\t\treset.ipynb\r\n",
      "assets\t\t\tscripts\r\n",
      "configs\t\t\tserver\r\n",
      "data\t\t\tsetup.py\r\n",
      "dataset.py\t\ttaming\r\n",
      "dataset_tool.py\t\ttaming_transformers.egg-info\r\n",
      "download_dataset.ipynb\ttest.ipynb\r\n",
      "environment.yaml\ttfutil.py\r\n",
      "main.py\r\n"
     ]
    }
   ],
   "source": [
    "!ls"
   ],
   "metadata": {
    "collapsed": false
   }
  },
  {
   "cell_type": "code",
   "execution_count": 4,
   "outputs": [],
   "source": [
    "!export XDG_CACHE_HOME='/data/vqvae'"
   ],
   "metadata": {
    "collapsed": false,
    "ExecuteTime": {
     "end_time": "2024-12-10T14:13:55.844284300Z",
     "start_time": "2024-12-10T14:13:54.378445Z"
    }
   }
  },
  {
   "cell_type": "code",
   "execution_count": null,
   "outputs": [
    {
     "name": "stdout",
     "output_type": "stream",
     "text": [
      "Running on GPUs 0\r\n",
      "Working with z of shape (1, 256, 16, 16) = 65536 dimensions.\r\n",
      "loaded pretrained LPIPS loss from taming/modules/autoencoder/lpips/vgg.pth\r\n",
      "VQLPIPSWithDiscriminator running with hinge loss.\r\n",
      "/opt/conda/envs/taming/lib/python3.8/site-packages/pytorch_lightning/utilities/distributed.py:45: UserWarning: ModelCheckpoint(save_last=True, monitor=None) is a redundant configuration. You can save the last checkpoint with ModelCheckpoint(save_top_k=None, monitor=None).\r\n",
      "  warnings.warn(*args, **kwargs)\r\n",
      "GPU available: False, used: False\r\n",
      "TPU available: False, using: 0 TPU cores\r\n",
      "Preparing dataset ILSVRC2012_train in /data/vqgan/autoencoders/data/ILSVRC2012_train\r\n",
      "Torrent name: ILSVRC2012_img_train.tar, Size: 147897.48MB\r\n",
      "Checking pieces on disk...\r\n",
      "  0%|▏                                     | 280/70524 [00:00<02:23, 490.28it/s]"
     ]
    }
   ],
   "source": [
    "!python main.py --base configs/imagenet_vqgan.yaml -t True --gpus 0;"
   ],
   "metadata": {
    "collapsed": false,
    "is_executing": true,
    "ExecuteTime": {
     "start_time": "2024-12-10T14:13:58.489857500Z"
    }
   }
  },
  {
   "cell_type": "code",
   "execution_count": null,
   "outputs": [],
   "source": [],
   "metadata": {
    "collapsed": false
   }
  }
 ],
 "metadata": {
  "kernelspec": {
   "display_name": "Python 3",
   "language": "python",
   "name": "python3"
  },
  "language_info": {
   "codemirror_mode": {
    "name": "ipython",
    "version": 2
   },
   "file_extension": ".py",
   "mimetype": "text/x-python",
   "name": "python",
   "nbconvert_exporter": "python",
   "pygments_lexer": "ipython2",
   "version": "2.7.6"
  }
 },
 "nbformat": 4,
 "nbformat_minor": 0
}
